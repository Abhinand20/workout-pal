{
 "cells": [
  {
   "cell_type": "code",
   "execution_count": 4,
   "metadata": {},
   "outputs": [],
   "source": [
    "import json\n",
    "from collections import Counter"
   ]
  },
  {
   "cell_type": "code",
   "execution_count": 5,
   "metadata": {},
   "outputs": [
    {
     "name": "stdout",
     "output_type": "stream",
     "text": [
      "Counter({'pull': 371, 'push': 369, 'static': 104, None: 29})\n"
     ]
    }
   ],
   "source": [
    "data = \"exercises.json\"\n",
    "\n",
    "with open(data, 'r') as f:\n",
    "    data = json.load(f)\n",
    "\n"
   ]
  },
  {
   "cell_type": "code",
   "execution_count": 6,
   "metadata": {},
   "outputs": [
    {
     "name": "stdout",
     "output_type": "stream",
     "text": [
      "Counter({'pull': 371, 'push': 369, 'static': 104, None: 29})\n"
     ]
    }
   ],
   "source": [
    "force_counts = Counter(item['force'] for item in data)\n",
    "print(force_counts)"
   ]
  },
  {
   "cell_type": "code",
   "execution_count": 7,
   "metadata": {},
   "outputs": [
    {
     "name": "stdout",
     "output_type": "stream",
     "text": [
      "Counter({'beginner': 523, 'intermediate': 293, 'expert': 57})\n",
      "Counter({'strength': 581, 'stretching': 123, 'plyometrics': 61, 'powerlifting': 38, 'olympic weightlifting': 35, 'strongman': 21, 'cardio': 14})\n"
     ]
    }
   ],
   "source": [
    "level_counts = Counter(item['level'] for item in data)\n",
    "print(level_counts)\n",
    "\n",
    "category_counts = Counter(item['category'] for item in data)\n",
    "print(category_counts)\n",
    "\n"
   ]
  },
  {
   "cell_type": "code",
   "execution_count": 11,
   "metadata": {},
   "outputs": [
    {
     "name": "stdout",
     "output_type": "stream",
     "text": [
      "Counter({'compound': 489, 'isolation': 297, None: 87})\n",
      "Counter({'barbell': 170, 'dumbbell': 123, 'other': 122, 'body only': 111, 'cable': 81, None: 77, 'machine': 67, 'kettlebells': 53, 'bands': 20, 'medicine ball': 17, 'exercise ball': 12, 'foam roll': 11, 'e-z curl bar': 9})\n",
      "Counter({'quadriceps': 148, 'shoulders': 127, 'abdominals': 93, 'chest': 84, 'hamstrings': 79, 'triceps': 71, 'biceps': 53, 'lats': 38, 'middle back': 34, 'calves': 28, 'lower back': 27, 'forearms': 25, 'glutes': 22, 'traps': 15, 'adductors': 13, 'neck': 8, 'abductors': 8})\n"
     ]
    }
   ],
   "source": [
    "mechanic_counts = Counter(item['mechanic'] for item in data)\n",
    "print(mechanic_counts)\n",
    "\n",
    "equipment_counts = Counter(item['equipment'] for item in data)\n",
    "print(equipment_counts)\n",
    "\n",
    "\n",
    "primary_muscles = [i for item in data for i in item['primaryMuscles']]\n",
    "\n",
    "primary_muscles_counts = Counter(primary_muscles)\n",
    "print(primary_muscles_counts)"
   ]
  },
  {
   "cell_type": "code",
   "execution_count": null,
   "metadata": {},
   "outputs": [],
   "source": []
  }
 ],
 "metadata": {
  "kernelspec": {
   "display_name": "workoutpal",
   "language": "python",
   "name": "python3"
  },
  "language_info": {
   "codemirror_mode": {
    "name": "ipython",
    "version": 3
   },
   "file_extension": ".py",
   "mimetype": "text/x-python",
   "name": "python",
   "nbconvert_exporter": "python",
   "pygments_lexer": "ipython3",
   "version": "3.13.2"
  }
 },
 "nbformat": 4,
 "nbformat_minor": 2
}
